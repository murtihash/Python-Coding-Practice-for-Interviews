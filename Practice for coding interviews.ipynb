{
 "cells": [
  {
   "cell_type": "code",
   "execution_count": 226,
   "metadata": {},
   "outputs": [
    {
     "name": "stdout",
     "output_type": "stream",
     "text": [
      "The autotime extension is already loaded. To reload it, use:\n",
      "  %reload_ext autotime\n",
      "time: 112 ms\n"
     ]
    }
   ],
   "source": [
    "%load_ext autotime"
   ]
  },
  {
   "cell_type": "markdown",
   "metadata": {},
   "source": [
    "**RETURN MOST FREQUENT CHAR FROM STRING. DONT INCLUDE SPACES** "
   ]
  },
  {
   "cell_type": "code",
   "execution_count": 2,
   "metadata": {},
   "outputs": [
    {
     "data": {
      "text/plain": [
       "'h'"
      ]
     },
     "execution_count": 2,
     "metadata": {},
     "output_type": "execute_result"
    },
    {
     "name": "stdout",
     "output_type": "stream",
     "text": [
      "time: 35.4 ms\n"
     ]
    }
   ],
   "source": [
    "\n",
    "s='Tu hi hai mujhe mey ya nahi hai tuu'\n",
    "def yo(s):\n",
    "    o=[]\n",
    "    for i in s:\n",
    "        if i !=' ':\n",
    "            o.append(i)\n",
    "    #return o\n",
    "    freq=[]\n",
    "    \n",
    "    for i in o:\n",
    "        freq.append(o.count(i))\n",
    "        if o.count(i)== max(freq):\n",
    "                ans=i\n",
    "                \n",
    "    return ans        \n",
    "    #for i in o:\n",
    "        #if o.count(i) == max(freq):\n",
    "            #return i\n",
    "yo(s)\n"
   ]
  },
  {
   "cell_type": "markdown",
   "metadata": {},
   "source": [
    "** MERGE TWO STRINGS. ALTERNATING CHARACTERS BETWEEN A & B **"
   ]
  },
  {
   "cell_type": "code",
   "execution_count": 36,
   "metadata": {},
   "outputs": [
    {
     "data": {
      "text/plain": [
       "'hbeylelo'"
      ]
     },
     "execution_count": 36,
     "metadata": {},
     "output_type": "execute_result"
    },
    {
     "name": "stdout",
     "output_type": "stream",
     "text": [
      "time: 13.4 ms\n"
     ]
    }
   ],
   "source": [
    "a='hello'\n",
    "b='bye'\n",
    "def alt(s, t):\n",
    "    if not (s and t):\n",
    "        return s + t\n",
    "    return s[0] + t[0] + alt(s[1:], t[1:])\n",
    "alt(a,b)\n",
    "## SOLUTION FROM THE WEB ##"
   ]
  },
  {
   "cell_type": "markdown",
   "metadata": {},
   "source": [
    "**TWO SUM. HOW MANY NUMBER OF PAIRS WHICH HAVE A SUM IN THE ARRAY**"
   ]
  },
  {
   "cell_type": "markdown",
   "metadata": {},
   "source": [
    "*Numbers will be unique, any length of array can be given*"
   ]
  },
  {
   "cell_type": "code",
   "execution_count": 179,
   "metadata": {},
   "outputs": [
    {
     "data": {
      "text/plain": [
       "4"
      ]
     },
     "execution_count": 179,
     "metadata": {},
     "output_type": "execute_result"
    }
   ],
   "source": [
    "arr=[1,2,3,5,10,14,18,20,25]\n",
    "\n",
    "\n",
    "def full(arr):\n",
    "    m=[]\n",
    "\n",
    "    def rec(arr):\n",
    "        length=len(arr)*(len(arr)-1)\n",
    "    \n",
    "    \n",
    "        if len(m)==length:\n",
    "               return m\n",
    "        else:\n",
    "            i=0\n",
    "            for j in range(i+1,len(arr)):\n",
    "                m.append(arr[i]+arr[j])\n",
    "            \n",
    "            return rec(arr[1:]+arr[0:1])\n",
    "    \n",
    "    sums=rec(arr) \n",
    "    counter=0\n",
    "    for i in range(len(sums)):\n",
    "        for j in range(len(arr)):\n",
    "             if sums[i]==arr[j]:\n",
    "                     counter+=1\n",
    "            \n",
    "    if counter < 1:\n",
    "        return \"Sorry, no pairs mate\"\n",
    "    else:\n",
    "        return int(counter/2)\n",
    "    \n",
    "                \n",
    "full(arr)          "
   ]
  },
  {
   "cell_type": "markdown",
   "metadata": {},
   "source": [
    "** HOW MANY CONSECUTIVE FOR EACH NUMBER?\n",
    "INPUT STRING= 111233\n",
    "OUTPUT TUPLES= (3,1),(2,3),--> (number of consecutive times, number)\n",
    "IF NUMBER HAS NO CONSECUTIVE AFTER IT. NO NEED TO OUTPUT (1,2)**"
   ]
  },
  {
   "cell_type": "code",
   "execution_count": 111,
   "metadata": {},
   "outputs": [],
   "source": [
    "s='111225566778888115555555551'"
   ]
  },
  {
   "cell_type": "code",
   "execution_count": 114,
   "metadata": {},
   "outputs": [
    {
     "name": "stdout",
     "output_type": "stream",
     "text": [
      "(3, 1)\n",
      "(2, 2)\n",
      "(2, 5)\n",
      "(2, 6)\n",
      "(2, 7)\n",
      "(4, 8)\n",
      "(2, 1)\n",
      "(9, 5)\n"
     ]
    }
   ],
   "source": [
    "count=1\n",
    "l=[]\n",
    "for i in range(1,len(s)):\n",
    "    if s[i-1]==s[i]:\n",
    "        count+=1\n",
    "        if i==len(s)-1:\n",
    "            l.append((count,int(s[i])))\n",
    "    else:\n",
    "        l.append((count,int(s[i-1])))\n",
    "        count=1\n",
    "#l.pop(-2)\n",
    "for j in tuple(l):\n",
    "    print(j)"
   ]
  },
  {
   "cell_type": "markdown",
   "metadata": {},
   "source": [
    "**Given an array of numbers, return array of products of all other numbers (no division)**\n",
    "\n",
    "**Input : [1, 2, 3, 4, 5]\n",
    "Output: [(2x3x4x5), (1x3x4x5), (1x2x4x5), (1x2x3x5), (1x2x3x4)]\n",
    "      = [120, 60, 40, 30, 24] **"
   ]
  },
  {
   "cell_type": "code",
   "execution_count": 3,
   "metadata": {},
   "outputs": [
    {
     "data": {
      "text/plain": [
       "[120, 60, 40, 30, 24]"
      ]
     },
     "execution_count": 3,
     "metadata": {},
     "output_type": "execute_result"
    }
   ],
   "source": [
    "u= [1,2,3,4,5]\n",
    "m=[]\n",
    "\n",
    "def rec(arr):\n",
    "    multi=1\n",
    "    length=len(arr)\n",
    "    \n",
    "    \n",
    "    if len(m)==length:\n",
    "        return m\n",
    "    else:\n",
    "        i=0\n",
    "        for i in range(i+1,len(arr)):\n",
    "            multi*=arr[i]\n",
    "        m.append(multi)\n",
    "        \n",
    "            \n",
    "              \n",
    "        return rec(arr[1:]+arr[0:1]) \n",
    "        \n",
    "rec(u)"
   ]
  },
  {
   "cell_type": "markdown",
   "metadata": {},
   "source": [
    "**2D ARRAY TO DICTIONARY TO 2D ARRAY ** - Practice"
   ]
  },
  {
   "cell_type": "code",
   "execution_count": 212,
   "metadata": {},
   "outputs": [
    {
     "data": {
      "text/plain": [
       "[[12, 14], [34], [56], [78], [910]]"
      ]
     },
     "execution_count": 212,
     "metadata": {},
     "output_type": "execute_result"
    },
    {
     "name": "stdout",
     "output_type": "stream",
     "text": [
      "time: 23.5 ms\n"
     ]
    }
   ],
   "source": [
    "\n",
    "\n",
    "arr=[[12,14],[34,5],[56],[78],[910],[77]]\n",
    "d={}\n",
    "l=[]\n",
    "for i in range(len(arr)):\n",
    "     l.append([])\n",
    "     d[\"arr{0}\".format(i)]=arr[i]\n",
    "     for j in list(d.values())[i]:\n",
    "            if j%2==0:\n",
    "                l[i].append(j)\n",
    "l=[x for x in l if len(x)!=0]\n",
    "l"
   ]
  },
  {
   "cell_type": "markdown",
   "metadata": {},
   "source": [
    "** REMOVE DUPLICATES FROM A LIST/ARRAY. ONLY KEEP FIRST APPEARANCE OF VALUE **"
   ]
  },
  {
   "cell_type": "code",
   "execution_count": 55,
   "metadata": {},
   "outputs": [
    {
     "data": {
      "text/plain": [
       "[2, 5, 4, 3, 1]"
      ]
     },
     "execution_count": 55,
     "metadata": {},
     "output_type": "execute_result"
    },
    {
     "name": "stdout",
     "output_type": "stream",
     "text": [
      "time: 43.6 ms\n"
     ]
    }
   ],
   "source": [
    "arr=[2,5,5,5,4,3,2,1,5,5,5]\n",
    "def ayo(d):\n",
    "    for i in range(len(d)):\n",
    "        count=1\n",
    "        if d.count(d[i])!=1:\n",
    "            for j in range(len(d)):\n",
    "                if (d[i]==d[j]) and (count>1):\n",
    "                    d[j]='*'\n",
    "                \n",
    "                elif d[i]==d[j]:\n",
    "                    count+=1\n",
    "    \n",
    "\n",
    "    return [x for x in d if x!='*']\n",
    "\n",
    "ayo(arr)"
   ]
  },
  {
   "cell_type": "markdown",
   "metadata": {},
   "source": [
    "** TRY REMOVING DUPLICATES RECURSIVELY **"
   ]
  },
  {
   "cell_type": "code",
   "execution_count": 227,
   "metadata": {},
   "outputs": [
    {
     "data": {
      "text/plain": [
       "[2, 5, 4, 3, 1, 7]"
      ]
     },
     "execution_count": 227,
     "metadata": {},
     "output_type": "execute_result"
    },
    {
     "name": "stdout",
     "output_type": "stream",
     "text": [
      "time: 20.5 ms\n"
     ]
    }
   ],
   "source": [
    "def gen(a):\n",
    "  b=[]\n",
    "  def recursive(a):\n",
    "      if len(a)==0:\n",
    "          return b\n",
    "      elif a[0] in b:\n",
    "          return recursive(a[1:])\n",
    "      elif a[0] not in b:\n",
    "          b.append(a[0])\n",
    "          return recursive(a[1:])\n",
    "  return recursive(a)\n",
    "gen([2,5,5,5,4,3,2,1,5,5,7])    "
   ]
  },
  {
   "cell_type": "code",
   "execution_count": 228,
   "metadata": {},
   "outputs": [
    {
     "data": {
      "text/plain": [
       "[]"
      ]
     },
     "execution_count": 228,
     "metadata": {},
     "output_type": "execute_result"
    },
    {
     "name": "stdout",
     "output_type": "stream",
     "text": [
      "time: 6.41 ms\n"
     ]
    }
   ],
   "source": [
    "d={}\n",
    "for i in c:\n",
    "    s= ''.join(sorted(i))\n",
    "    d[s]= d.get(s,[])+i\n",
    "    \n",
    "[x for x in d.values()]\n",
    "    "
   ]
  },
  {
   "cell_type": "markdown",
   "metadata": {},
   "source": [
    "** IF INPUT = 15,5. OUTPUT SHOULD BE 15,10,5,0,5,10,15 <br>\n",
    "   IF INPUT = 16,4 OUTPUT SHOULD BE 16,12,8,4,0,4,8,12,16 <br>\n",
    "   IF INPUT = 32,8 OUPUT SHOULD BE 32,24,16,8,0,8,16,24,32**"
   ]
  },
  {
   "cell_type": "code",
   "execution_count": 186,
   "metadata": {},
   "outputs": [
    {
     "name": "stdout",
     "output_type": "stream",
     "text": [
      "1044\n",
      "1026\n",
      "1008\n",
      "990\n",
      "972\n",
      "954\n",
      "936\n",
      "918\n",
      "900\n",
      "882\n",
      "864\n",
      "846\n",
      "828\n",
      "810\n",
      "792\n",
      "774\n",
      "756\n",
      "738\n",
      "720\n",
      "702\n",
      "684\n",
      "666\n",
      "648\n",
      "630\n",
      "612\n",
      "594\n",
      "576\n",
      "558\n",
      "540\n",
      "522\n",
      "504\n",
      "486\n",
      "468\n",
      "450\n",
      "432\n",
      "414\n",
      "396\n",
      "378\n",
      "360\n",
      "342\n",
      "324\n",
      "306\n",
      "288\n",
      "270\n",
      "252\n",
      "234\n",
      "216\n",
      "198\n",
      "180\n",
      "162\n",
      "144\n",
      "126\n",
      "108\n",
      "90\n",
      "72\n",
      "54\n",
      "36\n",
      "18\n",
      "0\n",
      "18\n",
      "36\n",
      "54\n",
      "72\n",
      "90\n",
      "108\n",
      "126\n",
      "144\n",
      "162\n",
      "180\n",
      "198\n",
      "216\n",
      "234\n",
      "252\n",
      "270\n",
      "288\n",
      "306\n",
      "324\n",
      "342\n",
      "360\n",
      "378\n",
      "396\n",
      "414\n",
      "432\n",
      "450\n",
      "468\n",
      "486\n",
      "504\n",
      "522\n",
      "540\n",
      "558\n",
      "576\n",
      "594\n",
      "612\n",
      "630\n",
      "648\n",
      "666\n",
      "684\n",
      "702\n",
      "720\n",
      "738\n",
      "756\n",
      "774\n",
      "792\n",
      "810\n",
      "828\n",
      "846\n",
      "864\n",
      "882\n",
      "900\n",
      "918\n",
      "936\n",
      "954\n",
      "972\n",
      "990\n",
      "1008\n",
      "1026\n",
      "1044\n",
      "time: 58 ms\n"
     ]
    }
   ],
   "source": [
    "def recurs1(a,b):\n",
    "  m=[]\n",
    "  m.append(a)\n",
    "  if a%b==0:\n",
    "    end = ((a/b)*2)+1\n",
    "    mid = (end+1)/2\n",
    "    def recurs(m):\n",
    "        \n",
    "        if len(m)==end:\n",
    "            return m\n",
    "        elif len(m)<mid:\n",
    "            n= m[-1]-b\n",
    "            m.append(n)\n",
    "            return recurs(m)\n",
    "        elif len(m)>mid-1:\n",
    "            n=m[-1]+b\n",
    "            m.append(n)\n",
    "            return recurs(m)\n",
    "    for i in recurs(m):\n",
    "      print(i)\n",
    "  else:\n",
    "    print(\"Number is Not fully divisible\")\n",
    "    \n",
    "recurs1(1044,18)"
   ]
  },
  {
   "cell_type": "markdown",
   "metadata": {},
   "source": [
    "** GIVEN A LIST, RETURN MAXIMUM INTEGER. ONLY RECURSIVE FUNCTION ALLOWED **"
   ]
  },
  {
   "cell_type": "code",
   "execution_count": 102,
   "metadata": {},
   "outputs": [
    {
     "name": "stdout",
     "output_type": "stream",
     "text": [
      "1118\n",
      "time: 14.9 s\n"
     ]
    }
   ],
   "source": [
    "l=[101,14,1,105,2,1118,3,104,5,6,7,100,101,110,-1]*2000\n",
    "\n",
    "\n",
    "    \n",
    "def recurs(l):\n",
    "    i=1\n",
    "    maximum=l[0]\n",
    "    if len(l) == 1:\n",
    "        return maximum\n",
    "    else:\n",
    "        \n",
    "        \n",
    "        if l[i]<l[i-1]:\n",
    "            maximum=l[i-1]\n",
    "            \n",
    "            return recurs(l[0:1]+l[2:])\n",
    "        \n",
    "        else:\n",
    "            return recurs(l[1:])\n",
    "print(recurs(l))\n",
    "%timeit\n",
    "\n",
    "\n",
    "## THIS IS AN EXAMPLE OF BINARY RECURSION OR AKA TREE RECURSION ## TWO RECURSIVE CALLS MADE ##"
   ]
  },
  {
   "cell_type": "code",
   "execution_count": 103,
   "metadata": {},
   "outputs": [
    {
     "data": {
      "text/plain": [
       "1118"
      ]
     },
     "execution_count": 103,
     "metadata": {},
     "output_type": "execute_result"
    },
    {
     "name": "stdout",
     "output_type": "stream",
     "text": [
      "time: 5.57 ms\n"
     ]
    }
   ],
   "source": [
    "max(l) # in built max function is still signficantly faster. wonder why"
   ]
  },
  {
   "cell_type": "markdown",
   "metadata": {},
   "source": [
    "** INPUT = LIST OF INPUTS, OUTPUT= EVERY COMBINATION OF THOSE INPUTS. MAX INPUTS=3 ( RECURSIVE FUNCTION ONLY)** "
   ]
  },
  {
   "cell_type": "code",
   "execution_count": 267,
   "metadata": {},
   "outputs": [
    {
     "name": "stdout",
     "output_type": "stream",
     "text": [
      "time: 1.39 ms\n"
     ]
    }
   ],
   "source": [
    "import sys\n",
    "sys.setrecursionlimit(2000000000)"
   ]
  },
  {
   "cell_type": "code",
   "execution_count": 181,
   "metadata": {},
   "outputs": [
    {
     "data": {
      "text/plain": [
       "[[[1, 2, 3]], [[2, 3, 1]], [[3, 1, 2]], [[3, 2, 1]], [[2, 1, 3]], [[1, 3, 2]]]"
      ]
     },
     "execution_count": 181,
     "metadata": {},
     "output_type": "execute_result"
    },
    {
     "name": "stdout",
     "output_type": "stream",
     "text": [
      "time: 51.4 ms\n"
     ]
    }
   ],
   "source": [
    "arr=[1,2,3]\n",
    "def full(arr):\n",
    "\n",
    "  m=[]\n",
    "  n=[]\n",
    "  for i in range(1,len(arr)+1):                    #----> CHECK TWO BOXES DOWN FOR RECURSIVE FUNCTION OF FACTORIALS\n",
    "      n.append(i)\n",
    "  result=1\n",
    "  for i in n:\n",
    "      result= result * i\n",
    "  a= result + 1\n",
    "  b= int(result/2)\n",
    "  def rec(arr):\n",
    "      if len(m)==a:\n",
    "          return m\n",
    "      if len(m)==b:\n",
    "          m.append([])\n",
    "          return rec(arr[::-1])\n",
    "        \n",
    "      else:\n",
    "          m.append([arr])\n",
    "          return rec(arr[1:]+arr[0:1])\n",
    "    \n",
    "  return [x for x in rec(arr) if x!=[]]\n",
    "\n",
    "full(arr)\n",
    "        "
   ]
  },
  {
   "cell_type": "markdown",
   "metadata": {},
   "source": [
    "**BONUS ( ill come back later) - what if more than 3 inputs are given? **"
   ]
  },
  {
   "cell_type": "code",
   "execution_count": null,
   "metadata": {},
   "outputs": [],
   "source": []
  },
  {
   "cell_type": "markdown",
   "metadata": {},
   "source": [
    "** SUM OF NATURAL NUMBERS. INPUT=5 OUTPUT=1+2+3+4+5=15 **"
   ]
  },
  {
   "cell_type": "code",
   "execution_count": 125,
   "metadata": {},
   "outputs": [
    {
     "data": {
      "text/plain": [
       "6"
      ]
     },
     "execution_count": 125,
     "metadata": {},
     "output_type": "execute_result"
    },
    {
     "name": "stdout",
     "output_type": "stream",
     "text": [
      "time: 8.73 ms\n"
     ]
    }
   ],
   "source": [
    "def natural(n):\n",
    "    if n==0:\n",
    "        return n\n",
    "    else:\n",
    "        return n + natural((n-1))\n",
    "natural(3)"
   ]
  },
  {
   "cell_type": "markdown",
   "metadata": {},
   "source": [
    "** FACTORIAL. INPUT=3 OUTPUT= 3x2x1 = 6 **"
   ]
  },
  {
   "cell_type": "code",
   "execution_count": 126,
   "metadata": {},
   "outputs": [
    {
     "data": {
      "text/plain": [
       "6"
      ]
     },
     "execution_count": 126,
     "metadata": {},
     "output_type": "execute_result"
    },
    {
     "name": "stdout",
     "output_type": "stream",
     "text": [
      "time: 10 ms\n"
     ]
    }
   ],
   "source": [
    "def natural(n):\n",
    "    if n==1:\n",
    "        return n\n",
    "    else:\n",
    "        return n * natural((n-1))\n",
    "natural(3)"
   ]
  },
  {
   "cell_type": "markdown",
   "metadata": {},
   "source": [
    "** SUM OF DIGITS. INPUT=12345, OUTPUT=1+2+3+4+5= 15. ONLY RECURSIVE ALLOWED **"
   ]
  },
  {
   "cell_type": "code",
   "execution_count": 184,
   "metadata": {},
   "outputs": [
    {
     "data": {
      "text/plain": [
       "45"
      ]
     },
     "execution_count": 184,
     "metadata": {},
     "output_type": "execute_result"
    },
    {
     "name": "stdout",
     "output_type": "stream",
     "text": [
      "time: 8.92 ms\n"
     ]
    }
   ],
   "source": [
    "def summer(n):\n",
    "    if n==0:\n",
    "        return 0\n",
    "    else:\n",
    "        return n%10 + summer(int(n/10))\n",
    "summer(123456789)    "
   ]
  },
  {
   "cell_type": "markdown",
   "metadata": {},
   "source": [
    "** SUM OF DIGITS. USING FOR LOOP. **"
   ]
  },
  {
   "cell_type": "code",
   "execution_count": 185,
   "metadata": {},
   "outputs": [
    {
     "data": {
      "text/plain": [
       "45"
      ]
     },
     "execution_count": 185,
     "metadata": {},
     "output_type": "execute_result"
    },
    {
     "name": "stdout",
     "output_type": "stream",
     "text": [
      "time: 7.74 ms\n"
     ]
    }
   ],
   "source": [
    "def summer1(n):\n",
    "    sum=0\n",
    "    for i in str(n):\n",
    "        sum+=int(i)\n",
    "    return sum\n",
    "summer1(123456789)\n",
    "        "
   ]
  },
  {
   "cell_type": "code",
   "execution_count": 44,
   "metadata": {},
   "outputs": [
    {
     "name": "stdout",
     "output_type": "stream",
     "text": [
      "time: 1.25 ms\n"
     ]
    }
   ],
   "source": [
    "import sys\n",
    "sys.setrecursionlimit(2000000)"
   ]
  },
  {
   "cell_type": "markdown",
   "metadata": {},
   "source": [
    "** INPUT= ANY NUMBER. OUTPUT IF PRIME= TRUE, OUTPUT IF NOT PRIME= FALSE, RECURSION ONLY **"
   ]
  },
  {
   "cell_type": "code",
   "execution_count": 88,
   "metadata": {},
   "outputs": [
    {
     "data": {
      "text/plain": [
       "True"
      ]
     },
     "execution_count": 88,
     "metadata": {},
     "output_type": "execute_result"
    },
    {
     "name": "stdout",
     "output_type": "stream",
     "text": [
      "time: 83.9 ms\n"
     ]
    }
   ],
   "source": [
    "def gen(n):\n",
    "    if n<1:\n",
    "        return False\n",
    "    b=n-1\n",
    "    \n",
    "    \n",
    "    try:\n",
    "        def recursive(n,b):\n",
    "            \n",
    "            if b==1:\n",
    "                return True\n",
    "           \n",
    "            elif n%b==0:\n",
    "                return False\n",
    "\n",
    "            elif n%b!=0:\n",
    "                return recursive(n,b-1)\n",
    "        \n",
    "        return gen(recursive(n,b))\n",
    "    except ZeroDivisionError as error:\n",
    "        return True\n",
    "    \n",
    "    \n",
    "gen(18797)\n",
    "\n",
    "\n",
    "\n",
    "## STACK LIMIT REACHED WHEN TRYING INPUT ABOVE 5 DIGITS, EVEN AFTER SPECIFYING HIGH RECURSION LIMIT ABOVE ##\n",
    "## BONUS: TRY TO FIX for input=1. It says its True, when it should be False."
   ]
  },
  {
   "cell_type": "markdown",
   "metadata": {},
   "source": [
    "** TRY ABOVE PROBLEM USING ITERATION **"
   ]
  },
  {
   "cell_type": "code",
   "execution_count": 87,
   "metadata": {},
   "outputs": [
    {
     "data": {
      "text/plain": [
       "True"
      ]
     },
     "execution_count": 87,
     "metadata": {},
     "output_type": "execute_result"
    },
    {
     "name": "stdout",
     "output_type": "stream",
     "text": [
      "time: 27.6 ms\n"
     ]
    }
   ],
   "source": [
    "def prime(n):\n",
    "    b=n-1\n",
    "    if n<=1:\n",
    "        return False\n",
    "    \n",
    "    else:\n",
    "        for i in range(n,0,-1):\n",
    "            if b==1:\n",
    "                return True\n",
    "            elif n%b==0:\n",
    "                return False\n",
    "            elif n%b!=0:\n",
    "                b=b-1\n",
    "                \n",
    "prime(18797)            \n",
    "        "
   ]
  },
  {
   "cell_type": "markdown",
   "metadata": {},
   "source": [
    "** WRITE AN IMPLIMENTATION FOR THE IN-BUILT COUNT FUNCTION IN PYTHON **"
   ]
  },
  {
   "cell_type": "code",
   "execution_count": 45,
   "metadata": {},
   "outputs": [
    {
     "data": {
      "text/plain": [
       "1500"
      ]
     },
     "execution_count": 45,
     "metadata": {},
     "output_type": "execute_result"
    },
    {
     "name": "stdout",
     "output_type": "stream",
     "text": [
      "time: 3.4 s\n"
     ]
    }
   ],
   "source": [
    "y=[1,2,9,9,9,1,2,3,4,5,7,8,9,9,10,1,2,3,4,5,6,7,9,8,10,11,12,13,14,15,16,17]*500\n",
    "c=2\n",
    "\n",
    "def count(y,c,coun):\n",
    "    if len(y)==0:\n",
    "        return coun\n",
    "    else:\n",
    "        if c==y[0]:\n",
    "            coun+=1\n",
    "            return count(y[1:],c,coun)\n",
    "        else:\n",
    "            return count(y[1:],c,coun)\n",
    "            \n",
    "\n",
    "\n",
    "count(y,c,0)            \n",
    "            \n",
    "     "
   ]
  },
  {
   "cell_type": "code",
   "execution_count": 43,
   "metadata": {},
   "outputs": [
    {
     "data": {
      "text/plain": [
       "1500"
      ]
     },
     "execution_count": 43,
     "metadata": {},
     "output_type": "execute_result"
    },
    {
     "name": "stdout",
     "output_type": "stream",
     "text": [
      "time: 13.2 ms\n"
     ]
    }
   ],
   "source": [
    "def count(y,c):\n",
    "    count=0\n",
    "    for i in y:\n",
    "        if i==c:\n",
    "            count+=1\n",
    "    return count\n",
    "count(y,c)"
   ]
  },
  {
   "cell_type": "code",
   "execution_count": 57,
   "metadata": {},
   "outputs": [
    {
     "name": "stdout",
     "output_type": "stream",
     "text": [
      "time: 1.05 ms\n"
     ]
    }
   ],
   "source": [
    "## USING FOR LOOP instead of recursion is insanely faster ## --> at scale(500 * list)"
   ]
  },
  {
   "cell_type": "markdown",
   "metadata": {},
   "source": [
    "** FIND EVEN WORD WITH MOST CHARs. IF NO EVEN WORDS, RETURN FALSE **"
   ]
  },
  {
   "cell_type": "code",
   "execution_count": 108,
   "metadata": {},
   "outputs": [
    {
     "data": {
      "text/plain": [
       "False"
      ]
     },
     "execution_count": 108,
     "metadata": {},
     "output_type": "execute_result"
    }
   ],
   "source": [
    "def even(s):\n",
    "    my=s.split(' ')\n",
    "    mine=[]\n",
    "    for i in range(len(my)):\n",
    "        if len(my[i])%2==0:\n",
    "            mine.append(my[i])\n",
    "    if len(mine)==0:\n",
    "        return False\n",
    "\n",
    "    mine2=[]\n",
    "    for i in range(len(mine)):\n",
    "        mine2.append(len(mine[i]))\n",
    "        h=max(mine2)\n",
    "    for i in range(len(mine)):\n",
    "        if len(mine[i])==h:\n",
    "            return mine[i]\n",
    "       \n",
    "\n",
    "            \n",
    "even('tuuaa tua hia tohayya')"
   ]
  },
  {
   "cell_type": "markdown",
   "metadata": {},
   "source": [
    "** REVERSE INTEGER VALUE **"
   ]
  },
  {
   "cell_type": "code",
   "execution_count": 25,
   "metadata": {},
   "outputs": [
    {
     "data": {
      "text/plain": [
       "351"
      ]
     },
     "execution_count": 25,
     "metadata": {},
     "output_type": "execute_result"
    }
   ],
   "source": [
    "### CATCH ANYTHING ABOVE 32 BIT INT ####\n",
    "def reverse(x):\n",
    "    if x<0:\n",
    "        x=x*-1\n",
    "        c=[i for i in str(x)]\n",
    "        if int(''.join(c[::-1]))> 2**31:\n",
    "            return 0\n",
    "        else:\n",
    "            return -1*int(''.join(c[::-1]))\n",
    "    else:\n",
    "        c=[i for i in str(x)]\n",
    "        if int(''.join(c[::-1]))> 2**31:\n",
    "            return 0\n",
    "        else:\n",
    "            return int(''.join(c[::-1]))\n",
    "reverse(153)"
   ]
  },
  {
   "cell_type": "code",
   "execution_count": 26,
   "metadata": {},
   "outputs": [
    {
     "data": {
      "text/plain": [
       "153"
      ]
     },
     "execution_count": 26,
     "metadata": {},
     "output_type": "execute_result"
    }
   ],
   "source": [
    "x='351'\n",
    "int(''.join([i for i in str(x)][::-1]))"
   ]
  },
  {
   "cell_type": "markdown",
   "metadata": {},
   "source": [
    "** MEDIAN OF 2 ARRAYS **"
   ]
  },
  {
   "cell_type": "code",
   "execution_count": 4,
   "metadata": {},
   "outputs": [
    {
     "data": {
      "text/plain": [
       "8"
      ]
     },
     "execution_count": 4,
     "metadata": {},
     "output_type": "execute_result"
    },
    {
     "name": "stdout",
     "output_type": "stream",
     "text": [
      "time: 24.5 ms\n"
     ]
    }
   ],
   "source": [
    "a=[1,2,3,4,5,6,7,8,9]\n",
    "b=[10,11,12,13,14,15]\n",
    "def median(a,b):\n",
    "    c=sorted(a+b)\n",
    "    if (len(c))%2==0:\n",
    "        return (int(c[int((len(c)+1)/2)])+int(c[int(((len(c)+1)/2)-1)]))/2\n",
    "    else:\n",
    "        return c[int((len(c))/2)]\n",
    "    \n",
    "median(a,b)\n",
    "    "
   ]
  },
  {
   "cell_type": "markdown",
   "metadata": {},
   "source": [
    "** GIVEN AN UNSORTED ARRAY, FIND THE SMALLEST MISSING POSITIVE INTEGER **"
   ]
  },
  {
   "cell_type": "code",
   "execution_count": 4,
   "metadata": {},
   "outputs": [
    {
     "data": {
      "text/plain": [
       "5"
      ]
     },
     "execution_count": 4,
     "metadata": {},
     "output_type": "execute_result"
    }
   ],
   "source": [
    "def firstpos(d):\n",
    "    if len(d)==0:\n",
    "        return 1\n",
    "    elif len(d)==1 and d[0]<0:\n",
    "        return 1\n",
    "    elif sum(n<0 for n in d)==len(d):\n",
    "        return 1\n",
    "    else:\n",
    "        for i in range(1,max(d)+2):\n",
    "            if i not in d:\n",
    "                return i\n",
    "firstpos([-5,-4,2,3,4,1,6,8])\n",
    " \n",
    "    "
   ]
  },
  {
   "cell_type": "markdown",
   "metadata": {},
   "source": [
    "** RETURN TWO SUM--> FALSE/TRUE **"
   ]
  },
  {
   "cell_type": "code",
   "execution_count": 237,
   "metadata": {},
   "outputs": [
    {
     "data": {
      "text/plain": [
       "[0, 2]"
      ]
     },
     "execution_count": 237,
     "metadata": {},
     "output_type": "execute_result"
    },
    {
     "name": "stdout",
     "output_type": "stream",
     "text": [
      "time: 23.3 ms\n"
     ]
    }
   ],
   "source": [
    "c=[3,4,5,4]\n",
    "targ=8\n",
    "def twosum(c,targ):\n",
    "    for i in range(len(c)):\n",
    "        for j in [x for x in range(len(c)) if x != i]:\n",
    "            if c[i]+c[j]==targ:\n",
    "                return [i,j]\n",
    "        \n",
    "    return False\n",
    "twosum(c,targ)\n",
    "            \n",
    "### WORKS, but too time intensive for larger list. Try using dictionaries"
   ]
  },
  {
   "cell_type": "markdown",
   "metadata": {},
   "source": [
    "**SOLVED**"
   ]
  },
  {
   "cell_type": "code",
   "execution_count": 249,
   "metadata": {},
   "outputs": [
    {
     "data": {
      "text/plain": [
       "[1, 2]"
      ]
     },
     "execution_count": 249,
     "metadata": {},
     "output_type": "execute_result"
    },
    {
     "name": "stdout",
     "output_type": "stream",
     "text": [
      "time: 13.5 ms\n"
     ]
    }
   ],
   "source": [
    "c=[3,4,4,3,4]\n",
    "targ=8\n",
    "def twosum(nums, target):\n",
    "    dic = {}\n",
    "    for i,n in enumerate(nums):\n",
    "        if target - n in dic:\n",
    "            return [dic[target-n], i]\n",
    "        dic[n] = i\n",
    "    return False\n",
    "twosum(c,targ)"
   ]
  },
  {
   "cell_type": "markdown",
   "metadata": {},
   "source": [
    "**FIRST NON REPEATING ELEMNT IN A LIST **"
   ]
  },
  {
   "cell_type": "code",
   "execution_count": 171,
   "metadata": {},
   "outputs": [
    {
     "data": {
      "text/plain": [
       "False"
      ]
     },
     "execution_count": 171,
     "metadata": {},
     "output_type": "execute_result"
    },
    {
     "name": "stdout",
     "output_type": "stream",
     "text": [
      "time: 18.2 ms\n"
     ]
    }
   ],
   "source": [
    "c=[-1,-1]\n",
    "\n",
    "def repeat(c):\n",
    "    d=[c.count(x) for x in c]\n",
    "    for i in range(len(d)):\n",
    "        if d[i]==1:\n",
    "            return c[i]\n",
    "        \n",
    "    return False\n",
    "    \n",
    "repeat(c)"
   ]
  },
  {
   "cell_type": "markdown",
   "metadata": {},
   "source": [
    "** FIND MISSING NUMBER IN SORTED ARRAY **"
   ]
  },
  {
   "cell_type": "markdown",
   "metadata": {},
   "source": [
    "*Recursive*"
   ]
  },
  {
   "cell_type": "code",
   "execution_count": 69,
   "metadata": {},
   "outputs": [
    {
     "data": {
      "text/plain": [
       "8"
      ]
     },
     "execution_count": 69,
     "metadata": {},
     "output_type": "execute_result"
    },
    {
     "name": "stdout",
     "output_type": "stream",
     "text": [
      "time: 17.7 ms\n"
     ]
    }
   ],
   "source": [
    "c=[1, 2, 3, 4, 5, 6, 7, 9]\n",
    "def missing(c):\n",
    "    if len(c)==1:\n",
    "        return 'no missing number'\n",
    "    else:\n",
    "        if c[0]==c[1]-1:\n",
    "            return missing(c[1:])\n",
    "        else:\n",
    "            return c[1]-1\n",
    "\n",
    "    \n",
    "missing(c)"
   ]
  },
  {
   "cell_type": "markdown",
   "metadata": {},
   "source": [
    "*LOOPING*"
   ]
  },
  {
   "cell_type": "code",
   "execution_count": 2,
   "metadata": {},
   "outputs": [
    {
     "data": {
      "text/plain": [
       "8"
      ]
     },
     "execution_count": 2,
     "metadata": {},
     "output_type": "execute_result"
    }
   ],
   "source": [
    "c=[1, 2, 3, 4, 5, 6, 7, 9]\n",
    "def missing(c):\n",
    "    for i in range(1,len(c)):\n",
    "        if c[i-1]!=c[i]-1:\n",
    "            return c[i]-1\n",
    "        \n",
    "    return 'no missing number'\n",
    "        \n",
    "\n",
    "    \n",
    "missing(c)"
   ]
  },
  {
   "cell_type": "markdown",
   "metadata": {},
   "source": [
    "** Reverse a string **"
   ]
  },
  {
   "cell_type": "code",
   "execution_count": 5,
   "metadata": {},
   "outputs": [
    {
     "data": {
      "text/plain": [
       "'yem'"
      ]
     },
     "execution_count": 5,
     "metadata": {},
     "output_type": "execute_result"
    },
    {
     "name": "stdout",
     "output_type": "stream",
     "text": [
      "time: 5.01 ms\n"
     ]
    }
   ],
   "source": [
    "c='mey'\n",
    "''.join([c[x] for x in range(len(c)-1,-1,-1)])"
   ]
  },
  {
   "cell_type": "markdown",
   "metadata": {},
   "source": [
    "** OR **"
   ]
  },
  {
   "cell_type": "code",
   "execution_count": 4,
   "metadata": {},
   "outputs": [
    {
     "data": {
      "text/plain": [
       "'yem'"
      ]
     },
     "execution_count": 4,
     "metadata": {},
     "output_type": "execute_result"
    },
    {
     "name": "stdout",
     "output_type": "stream",
     "text": [
      "time: 4.46 ms\n"
     ]
    }
   ],
   "source": [
    "c[::-1]"
   ]
  },
  {
   "cell_type": "markdown",
   "metadata": {},
   "source": [
    "** Given an array of strings, group anagrams together. ** <br>\n",
    "*INPUT=['eat','tea','tan','ate','nat','bat']* <br>\n",
    "*OUTPUT=[['ate','eat','tea'],['nat','tan'],['bat']]* "
   ]
  },
  {
   "cell_type": "code",
   "execution_count": 173,
   "metadata": {},
   "outputs": [
    {
     "data": {
      "text/plain": [
       "[['eat', 'tea', 'ate', 'tae'], ['tan', 'nat', 'tna'], ['bat', 'tab']]"
      ]
     },
     "execution_count": 173,
     "metadata": {},
     "output_type": "execute_result"
    },
    {
     "name": "stdout",
     "output_type": "stream",
     "text": [
      "time: 25.8 ms\n"
     ]
    }
   ],
   "source": [
    "c=['eat','tea','tan','ate','nat','bat','tab','tae','tna']\n",
    "\n",
    "def anagram(c):\n",
    "    d=[]\n",
    "    for i in range(0,len(c)):\n",
    "        d.append([c[i]])\n",
    "        if c[i]=='*':\n",
    "            continue\n",
    "        for j in range(len(c)):\n",
    "            if j!=i:\n",
    "                if sorted(c[i])==sorted(c[j]):\n",
    "                    d[i].append(c[j])\n",
    "                    c[j]='*'\n",
    "           \n",
    "    return [l for l in d if l[0]!='*']\n",
    "anagram(c)\n"
   ]
  },
  {
   "cell_type": "markdown",
   "metadata": {},
   "source": [
    "** TRY SOLVING ABOVE PROBLEM USING DICTIONARY FOR BETTER SPEED **"
   ]
  },
  {
   "cell_type": "markdown",
   "metadata": {},
   "source": [
    "*what an elegant solution*->\n",
    "*set key to sorted value of iteration. lookup that same key to add new values or if no value*\n",
    "*there then create empty list to add [i] to*"
   ]
  },
  {
   "cell_type": "code",
   "execution_count": 12,
   "metadata": {},
   "outputs": [
    {
     "data": {
      "text/plain": [
       "[['eat', 'tea', 'ate', 'tae'], ['tan', 'nat', 'tna'], ['bat', 'tab']]"
      ]
     },
     "execution_count": 12,
     "metadata": {},
     "output_type": "execute_result"
    }
   ],
   "source": [
    "c=['eat','tea','tan','ate','nat','bat','tab','tae','tna']\n",
    "d={}\n",
    "for i in c:\n",
    "    s=''.join(sorted(i))\n",
    "    d[s]= d.get(s,[])+[i]\n",
    "    \n",
    "[x for x in d.values()]"
   ]
  },
  {
   "cell_type": "code",
   "execution_count": 18,
   "metadata": {},
   "outputs": [
    {
     "name": "stdout",
     "output_type": "stream",
     "text": [
      "aet\n",
      "aet\n",
      "ant\n",
      "aet\n",
      "ant\n",
      "abt\n",
      "abt\n",
      "aet\n",
      "ant\n"
     ]
    }
   ],
   "source": [
    "for i in c:\n",
    "    print(''.join(sorted(i)))"
   ]
  },
  {
   "cell_type": "code",
   "execution_count": 10,
   "metadata": {},
   "outputs": [
    {
     "name": "stdout",
     "output_type": "stream",
     "text": [
      "8\n",
      "7\n",
      "6\n",
      "5\n",
      "4\n",
      "3\n",
      "2\n",
      "1\n"
     ]
    }
   ],
   "source": [
    "#a=[1,2,3,4,5,6,7,8]\n",
    "a='12345678'\n",
    "for i in range(len(a),0,-1):\n",
    "    print(i)"
   ]
  },
  {
   "cell_type": "code",
   "execution_count": 11,
   "metadata": {},
   "outputs": [
    {
     "data": {
      "text/plain": [
       "'87654321'"
      ]
     },
     "execution_count": 11,
     "metadata": {},
     "output_type": "execute_result"
    }
   ],
   "source": [
    "a[::-1]"
   ]
  },
  {
   "cell_type": "code",
   "execution_count": null,
   "metadata": {},
   "outputs": [],
   "source": []
  }
 ],
 "metadata": {
  "kernelspec": {
   "display_name": "Python 3",
   "language": "python",
   "name": "python3"
  },
  "language_info": {
   "codemirror_mode": {
    "name": "ipython",
    "version": 3
   },
   "file_extension": ".py",
   "mimetype": "text/x-python",
   "name": "python",
   "nbconvert_exporter": "python",
   "pygments_lexer": "ipython3",
   "version": "3.6.7"
  }
 },
 "nbformat": 4,
 "nbformat_minor": 2
}
